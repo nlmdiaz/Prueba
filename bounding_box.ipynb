{
  "nbformat": 4,
  "nbformat_minor": 0,
  "metadata": {
    "colab": {
      "provenance": [],
      "mount_file_id": "1NwYsIg-eFXszShyyhBZLoghIqG19KXKY",
      "authorship_tag": "ABX9TyP1bDq+Ij2N0vLRydRG0YYD",
      "include_colab_link": true
    },
    "kernelspec": {
      "name": "python3",
      "display_name": "Python 3"
    },
    "language_info": {
      "name": "python"
    }
  },
  "cells": [
    {
      "cell_type": "markdown",
      "metadata": {
        "id": "view-in-github",
        "colab_type": "text"
      },
      "source": [
        "<a href=\"https://colab.research.google.com/github/nlmdiaz/Prueba/blob/main/bounding_box.ipynb\" target=\"_parent\"><img src=\"https://colab.research.google.com/assets/colab-badge.svg\" alt=\"Open In Colab\"/></a>"
      ]
    },
    {
      "cell_type": "code",
      "execution_count": 3,
      "metadata": {
        "id": "NN8IbUmMJ5vw"
      },
      "outputs": [],
      "source": [
        "import json"
      ]
    },
    {
      "cell_type": "code",
      "source": [
        "def bounding_box(ruta_json, frame):\n",
        "  ruta = ruta_json\n",
        "  with open(ruta) as contenido:\n",
        "    data_nvidia = json.load(contenido)\n",
        "  ##data_nvidia[num_frame]['batches'][0]['objects'][0]['pose25d']\n",
        "  coord = data_nvidia[frame]['batches'][0]['objects'][0]['pose25d']\n",
        "  x=[]\n",
        "  y=[]\n",
        "  for i in range (0, 136, 4):\n",
        "    x.append(coord[i])\n",
        "\n",
        "  for j in range (1, 136, 4):\n",
        "    y.append(coord[j])\n",
        "\n",
        "  xmin = min(x) - 40\n",
        "  ymin = min(y) - 40\n",
        "  xmax = max(x)\n",
        "  ymax = max(y)\n",
        "  h = ymax - ymin + 40\n",
        "  w = xmax - xmin + 40\n",
        "\n",
        "  clave = '\"bounding_box\": { \"h\": '+ str(h) + ' \"w\":'+str(w)+ ' \"x\": '+ str(xmin) + ' \"y\": '+ str(ymin) +'}'\n",
        "  print(clave)\n",
        "\n",
        "\n",
        "#funcion con parametros ruta del json y frame a calcular\n",
        "bounding_box('/content/drive/MyDrive/1668433519_step-01_camera-1.rgb.json', 0)"
      ],
      "metadata": {
        "colab": {
          "base_uri": "https://localhost:8080/"
        },
        "id": "LYGQJqMNJ_uT",
        "outputId": "c944fab8-f3b9-4975-f6bc-a1b215deb5e0"
      },
      "execution_count": 45,
      "outputs": [
        {
          "output_type": "stream",
          "name": "stdout",
          "text": [
            "\"bounding_box\": { \"h\": 638.6748349999999 \"w\":59.16635099999999 \"x\": 234.597321 \"y\": 316.739227}\n"
          ]
        }
      ]
    }
  ]
}