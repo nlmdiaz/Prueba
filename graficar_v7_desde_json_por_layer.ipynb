{
  "nbformat": 4,
  "nbformat_minor": 0,
  "metadata": {
    "colab": {
      "provenance": [],
      "mount_file_id": "1bUmvF0ei4suyfisB8NAk5s4vKyqzgh2T",
      "authorship_tag": "ABX9TyPr/IaJiW87bGjdg30kVbTt",
      "include_colab_link": true
    },
    "kernelspec": {
      "name": "python3",
      "display_name": "Python 3"
    },
    "language_info": {
      "name": "python"
    }
  },
  "cells": [
    {
      "cell_type": "markdown",
      "metadata": {
        "id": "view-in-github",
        "colab_type": "text"
      },
      "source": [
        "<a href=\"https://colab.research.google.com/github/nlmdiaz/Prueba/blob/main/graficar_v7_desde_json_por_layer.ipynb\" target=\"_parent\"><img src=\"https://colab.research.google.com/assets/colab-badge.svg\" alt=\"Open In Colab\"/></a>"
      ]
    },
    {
      "cell_type": "code",
      "execution_count": 2,
      "metadata": {
        "colab": {
          "base_uri": "https://localhost:8080/",
          "height": 455
        },
        "id": "uCo2Y8lsM9ST",
        "outputId": "fafbbbc9-3948-4b3e-a5ec-bae8d3393659"
      },
      "outputs": [
        {
          "output_type": "stream",
          "name": "stdout",
          "text": [
            "[281.5755555555556, 224.03, 281.79, 336.41, 263.55, 263.53, 263.56, 437.01, 495.87, 423.69, 414.43, 487.51, 645.4466666666666, 650.8366666666667, 210.39]\n",
            "[533.3744444444444, 680.44, 658.08, 676.6, 755.99, 756.03, 756.01, 730.86, 908.71, 888.64, 909.75, 903.14, 689.7866666666666, 705.3733333333333, 590.89]\n"
          ]
        },
        {
          "output_type": "display_data",
          "data": {
            "text/plain": [
              "<Figure size 259.2x460.8 with 1 Axes>"
            ],
            "image/png": "[encoded data removed]"
          },
          "metadata": {
            "needs_background": "light"
          }
        }
      ],
      "source": [
        "import matplotlib.pyplot as plt\n",
        "import numpy as np\n",
        "import json\n",
        "\n",
        "def init_data():\n",
        "  ruta = '/content/drive/MyDrive/1668433425_step-01_camera-1.rgb.json'\n",
        "  with open(ruta) as contenido:\n",
        "    v7 = json.load(contenido)\n",
        "    ## anotacion | punto a identificar | frames | capa |\n",
        "    layer = '200'\n",
        "    ##keyframe = v7['annotations'][14]['frames']['300']['keyframe']\n",
        "    ##x = v7['annotations'][14]['frames']['300']['keypoint']['x']\n",
        "    ##y = v7['annotations'][14]['frames']['300']['keypoint']['y']\n",
        "    ##print(v7['annotations'][14]['frames'][layer]['keypoint']['x'])\n",
        "    ##desde el 0 al 14 son los puntos de identificación el 15 bounding box\n",
        "    list_x=[]\n",
        "    list_y=[]\n",
        "    for i in range(15):\n",
        "      list_x.append(v7['annotations'][i]['frames'][layer]['keypoint']['x']) \n",
        "      list_y.append(v7['annotations'][i]['frames'][layer]['keypoint']['y']) \n",
        "\n",
        "    print(list_x)\n",
        "    print(list_y)\n",
        "    f = plt.figure()\n",
        "    f.set_figwidth(3.6)\n",
        "    f.set_figheight(6.4)\n",
        "    plt.plot(list_x, list_y, 'bo')\n",
        "    plt.xlim([0, 720])\n",
        "    plt.ylim([1280, 0])\n",
        "    plt.show()\n",
        "\n",
        " \n",
        "\n",
        "\n",
        "init_data()\n",
        "\n"
      ]
    },
    {
      "cell_type": "code",
      "source": [
        "#x = [281.082, 224.03, 281.79, 336.41]\n",
        "#y = [[531.846, 680.44, 658.08, 676.6,]\n",
        "#matplotlib.pyplot.scatter(x, y, s=None, c=None, marker=None, cmap=None, norm=None, vmin=None, vmax=None, alpha=None, linewidths=None, *, edgecolors=None, plotnonfinite=False, data=None, **kwargs)[source]\n",
        "#https://matplotlib.org/stable/api/_as_gen/matplotlib.pyplot.scatter.html"
      ],
      "metadata": {
        "id": "U_sUYmaCqNz1"
      },
      "execution_count": null,
      "outputs": []
    }
  ]
}