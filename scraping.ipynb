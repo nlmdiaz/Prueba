{
  "nbformat": 4,
  "nbformat_minor": 0,
  "metadata": {
    "colab": {
      "provenance": [],
      "authorship_tag": "ABX9TyMuhDp+1s1V/YEfDjKIVWk9",
      "include_colab_link": true
    },
    "kernelspec": {
      "name": "python3",
      "display_name": "Python 3"
    },
    "language_info": {
      "name": "python"
    }
  },
  "cells": [
    {
      "cell_type": "markdown",
      "metadata": {
        "id": "view-in-github",
        "colab_type": "text"
      },
      "source": [
        "<a href=\"https://colab.research.google.com/github/nlmdiaz/Prueba/blob/main/scraping.ipynb\" target=\"_parent\"><img src=\"https://colab.research.google.com/assets/colab-badge.svg\" alt=\"Open In Colab\"/></a>"
      ]
    },
    {
      "cell_type": "code",
      "execution_count": null,
      "metadata": {
        "colab": {
          "base_uri": "https://localhost:8080/"
        },
        "id": "0Vuqcgsj0BW6",
        "outputId": "12230ac7-2627-4090-a5ea-356495b5c2b6"
      },
      "outputs": [
        {
          "output_type": "stream",
          "name": "stdout",
          "text": [
            "Looking in indexes: https://pypi.org/simple, https://us-python.pkg.dev/colab-wheels/public/simple/\n",
            "Requirement already satisfied: requests in /usr/local/lib/python3.8/dist-packages (2.25.1)\n",
            "Requirement already satisfied: lxml in /usr/local/lib/python3.8/dist-packages (4.9.2)\n",
            "Collecting autopep8\n",
            "  Downloading autopep8-2.0.1-py2.py3-none-any.whl (45 kB)\n",
            "\u001b[2K     \u001b[90m━━━━━━━━━━━━━━━━━━━━━━━━━━━━━━━━━━━━━━━━\u001b[0m \u001b[32m45.0/45.0 KB\u001b[0m \u001b[31m1.7 MB/s\u001b[0m eta \u001b[36m0:00:00\u001b[0m\n",
            "\u001b[?25hRequirement already satisfied: urllib3<1.27,>=1.21.1 in /usr/local/lib/python3.8/dist-packages (from requests) (1.24.3)\n",
            "Requirement already satisfied: certifi>=2017.4.17 in /usr/local/lib/python3.8/dist-packages (from requests) (2022.12.7)\n",
            "Requirement already satisfied: chardet<5,>=3.0.2 in /usr/local/lib/python3.8/dist-packages (from requests) (4.0.0)\n",
            "Requirement already satisfied: idna<3,>=2.5 in /usr/local/lib/python3.8/dist-packages (from requests) (2.10)\n",
            "Requirement already satisfied: tomli in /usr/local/lib/python3.8/dist-packages (from autopep8) (2.0.1)\n",
            "Collecting pycodestyle>=2.10.0\n",
            "  Downloading pycodestyle-2.10.0-py2.py3-none-any.whl (41 kB)\n",
            "\u001b[2K     \u001b[90m━━━━━━━━━━━━━━━━━━━━━━━━━━━━━━━━━━━━━━━━\u001b[0m \u001b[32m41.3/41.3 KB\u001b[0m \u001b[31m1.9 MB/s\u001b[0m eta \u001b[36m0:00:00\u001b[0m\n",
            "\u001b[?25hInstalling collected packages: pycodestyle, autopep8\n",
            "Successfully installed autopep8-2.0.1 pycodestyle-2.10.0\n"
          ]
        }
      ],
      "source": [
        "pip install requests lxml autopep8"
      ]
    },
    {
      "cell_type": "code",
      "source": [
        "#importando las dependencias\n",
        "import requests\n",
        "import lxml.html as html\n"
      ],
      "metadata": {
        "id": "GGQKU226Br8N"
      },
      "execution_count": null,
      "outputs": []
    },
    {
      "cell_type": "code",
      "source": [
        "#los xpath necesarios para descargar la información\n",
        "#HOME = 'https://www.larepublica.co/'\n",
        "HOME = 'https://www.zara.com/'\n",
        "##LINKS = '//div[@class=\"V_Title\"]/a/@href'\n",
        "LINKS ='//a/h3/text()'\n",
        "TITLES = '//div[@class=\"mb-auto\"]/h2/span/text()'\n",
        "CONTENT = '//div[@class=\"html-content\"]/p/text()'\n"
      ],
      "metadata": {
        "id": "926rzrim085W"
      },
      "execution_count": null,
      "outputs": []
    },
    {
      "cell_type": "code",
      "source": [
        "from ast import parse\n",
        "def parse_home():\n",
        "  try:\n",
        "    #traigo el documento HTML\n",
        "    response = requests.get(HOME)\n",
        "    if response.status_code == 200:\n",
        "      home = response.content.decode('utf-8')\n",
        "      parsed = html.fromstring(home)\n",
        "      link_to_notices = parsed.xpath(LINKS)\n",
        "      print(link_to_notices[0])\n",
        "    else:\n",
        "      raise ValueError(f'Error: {response.status_code}')\n",
        "  except ValueError as ve:\n",
        "    print(ve)\n",
        "\n",
        "def run():\n",
        "  parse_home()\n",
        "\n",
        "if __name__== '__main__':\n",
        "  run()"
      ],
      "metadata": {
        "colab": {
          "base_uri": "https://localhost:8080/"
        },
        "id": "WOraQtfNELWF",
        "outputId": "13c99db4-13d6-4dcb-ccb1-fe08124d82a2"
      },
      "execution_count": null,
      "outputs": [
        {
          "output_type": "stream",
          "name": "stdout",
          "text": [
            "Error: 403\n"
          ]
        }
      ]
    }
  ]
}